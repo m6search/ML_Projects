{
  "nbformat": 4,
  "nbformat_minor": 0,
  "metadata": {
    "colab": {
      "provenance": [],
      "collapsed_sections": []
    },
    "kernelspec": {
      "name": "python3",
      "display_name": "Python 3"
    },
    "language_info": {
      "name": "python"
    }
  },
  "cells": [
    {
      "cell_type": "markdown",
      "metadata": {
        "id": "Y8uq45wOADfR"
      },
      "source": [
        "Full name: ***Moldir Koishybayeva*** <br>\n",
        "\n",
        "<h4 align=\"center\"> <b>Mini Project </h4>"
      ]
    },
    {
      "cell_type": "markdown",
      "metadata": {
        "id": "53hcjldDAKgw"
      },
      "source": [
        "*Importing libraries to call necessary functions*"
      ]
    },
    {
      "cell_type": "code",
      "metadata": {
        "id": "QwJ3pmuj7cgP"
      },
      "source": [
        "from bs4 import BeautifulSoup # for web scraping\n",
        "import requests  #to get html code of the site\n",
        "import re #for working with substring\n",
        "import pandas as pd #to store scraped data in dataframe\n",
        "from datetime import datetime #working with timeseries\n",
        "from datetime import date"
      ],
      "execution_count": null,
      "outputs": []
    },
    {
      "cell_type": "markdown",
      "metadata": {
        "id": "btZl2dcgAOnp"
      },
      "source": [
        "*Each link contains dates and links to articles*"
      ]
    },
    {
      "cell_type": "code",
      "metadata": {
        "id": "Tgg2CbDe7fhU"
      },
      "source": [
        "articles_2019_link='https://edition.cnn.com/article/sitemap-2019-12.html'\n",
        "articles_2020_link='https://edition.cnn.com/article/sitemap-2020-12.html'"
      ],
      "execution_count": null,
      "outputs": []
    },
    {
      "cell_type": "code",
      "metadata": {
        "id": "LHcjTg3G7iSV"
      },
      "source": [
        "df=pd.DataFrame(columns=('ID','LINK','TITLE','DATE','AUTHOR','CATEGORY'))"
      ],
      "execution_count": null,
      "outputs": []
    },
    {
      "cell_type": "markdown",
      "metadata": {
        "id": "r11phmWsAS-9"
      },
      "source": [
        "*   Created function ***scrap_links()*** *with two arguments* *to avoid repeating the code* for each link (2019 and 2020)\n",
        "*   ***Purpose ( scrap_links() ):*** to extract the links and to sort the dates\n",
        "*   After calls another function ***scrap_data()*** *with two arguments*"
      ]
    },
    {
      "cell_type": "code",
      "metadata": {
        "id": "6SnLZyOT7kuf"
      },
      "source": [
        "def scrap_links(articles,year):\n",
        "  source = requests.get(articles).text\n",
        "  articles = BeautifulSoup(source, 'lxml')\n",
        "\n",
        "  Post= articles.find('div', class_='sitemap-entries') #part with links that we need \n",
        "\n",
        "  scraped_links=[]\n",
        "  scraped_dates=[]\n",
        "\n",
        "  end_date=date(year,12,15)\n",
        "  start_date=date(year,12,1)\n",
        "\n",
        "  for span in Post.find_all('span', class_='date'):\n",
        "    try:  \n",
        "      span_new =re.search('<span class=\"date\">(.*)</span', str(span)).group(1)\n",
        "      day=datetime.strptime(span_new,'%Y-%m-%d').date()\n",
        "      scraped_dates.append(day)\n",
        "    except Exception as e:\n",
        "      if span is None:\n",
        "        pass\n",
        "    \n",
        "  for span in Post.find_all('span',class_='sitemap-link'):\n",
        "    links=span.find_all('a')\n",
        "    for link in links:\n",
        "      Link=link['href']\n",
        "      scraped_links.append(Link)\n",
        "\n",
        "  df_date=pd.DataFrame({'date':scraped_dates,'link':scraped_links})\n",
        "  df_date=df_date.drop(df_date[df_date.date<start_date].index)\n",
        "  df_date=df_date.drop(df_date[df_date.date>=end_date].index)\n",
        " \n",
        "  links_list=df_date['link'].tolist()\n",
        "  dates_list=df_date['date'].tolist()\n",
        "  scrap_data(links_list,dates_list)\n"
      ],
      "execution_count": null,
      "outputs": []
    },
    {
      "cell_type": "markdown",
      "metadata": {
        "id": "Oc7riLqdAYAr"
      },
      "source": [
        "**Purpose**( ***scrap_data()*** function with 2 arg): <br> To take the title, author and category information for each article. Then insert it into the pandas dataframe."
      ]
    },
    {
      "cell_type": "code",
      "metadata": {
        "id": "hglTf8b97ncW"
      },
      "source": [
        "def scrap_data(scraped_links,scraped_dates):\n",
        "  for x in range(len(scraped_links)):\n",
        "    source = requests.get(scraped_links[x]).text\n",
        "    articles_2019_1 = BeautifulSoup(source, 'lxml')\n",
        "\n",
        "    Title=str(articles_2019_1.find(property=\"og:title\")).replace(\"\\n\",\" \")\n",
        "    Author=str(articles_2019_1.find(itemprop=\"author\")).replace(\"\\n\",\" \")\n",
        "    Categor=str(articles_2019_1.find(itemprop=\"keywords\")).replace(\"'\",\"\")\n",
        "\n",
        "    def get_substring(Title_col,Author_col,Categor_col):\n",
        "      try:\n",
        "        Title_col=re.search('<meta content=\"(.*)\" property=', Title).group(1)\n",
        "        Author_col=re.search('<meta content=\"(.*)\" itemprop=', Author).group(1)\n",
        "        Categor_col=re.search('<meta content=(.*),', Categor).group(1)\n",
        "        Categor_col=Categor_col.replace('\"','')\n",
        "      except Exception as e:\n",
        "        if Author_col==None:\n",
        "          Author_col='NaN'\n",
        "        if Categor_col==None:\n",
        "          Categor_col='NaN'  \n",
        "      df.loc[x]=[x+1,scraped_links[x],Title_col,scraped_dates[x],Author_col,Categor_col]\n",
        "    get_substring(Title,Author,Categor)\n",
        "  return df"
      ],
      "execution_count": null,
      "outputs": []
    },
    {
      "cell_type": "code",
      "metadata": {
        "id": "msGvHlRv7qMC"
      },
      "source": [
        "scrap_links(articles_2019_link,2019)\n",
        "df_articles_2019=pd.DataFrame(df)"
      ],
      "execution_count": null,
      "outputs": []
    },
    {
      "cell_type": "code",
      "metadata": {
        "colab": {
          "base_uri": "https://localhost:8080/",
          "height": 585
        },
        "id": "dKTT2G707uQM",
        "outputId": "e3ea471c-1979-4cf7-dd6a-b0a7c0934c14"
      },
      "source": [
        "df_articles_2019 #displaying pandas dataframe"
      ],
      "execution_count": null,
      "outputs": [
        {
          "output_type": "execute_result",
          "data": {
            "text/html": [
              "<div>\n",
              "<style scoped>\n",
              "    .dataframe tbody tr th:only-of-type {\n",
              "        vertical-align: middle;\n",
              "    }\n",
              "\n",
              "    .dataframe tbody tr th {\n",
              "        vertical-align: top;\n",
              "    }\n",
              "\n",
              "    .dataframe thead th {\n",
              "        text-align: right;\n",
              "    }\n",
              "</style>\n",
              "<table border=\"1\" class=\"dataframe\">\n",
              "  <thead>\n",
              "    <tr style=\"text-align: right;\">\n",
              "      <th></th>\n",
              "      <th>ID</th>\n",
              "      <th>LINK</th>\n",
              "      <th>TITLE</th>\n",
              "      <th>DATE</th>\n",
              "      <th>AUTHOR</th>\n",
              "      <th>CATEGORY</th>\n",
              "    </tr>\n",
              "  </thead>\n",
              "  <tbody>\n",
              "    <tr>\n",
              "      <th>0</th>\n",
              "      <td>1</td>\n",
              "      <td>https://edition.cnn.com/2019/12/14/football/ba...</td>\n",
              "      <td>Barcelona draw with Real Sociedad opens door f...</td>\n",
              "      <td>2019-12-14</td>\n",
              "      <td>Matias Grez, CNN</td>\n",
              "      <td>football</td>\n",
              "    </tr>\n",
              "    <tr>\n",
              "      <th>1</th>\n",
              "      <td>2</td>\n",
              "      <td>https://edition.cnn.com/2019/12/14/europe/fran...</td>\n",
              "      <td>100 Jewish graves were desecrated in France. A...</td>\n",
              "      <td>2019-12-14</td>\n",
              "      <td>Saskya Vandoorne and Melissa Bell, CNN</td>\n",
              "      <td>europe</td>\n",
              "    </tr>\n",
              "    <tr>\n",
              "      <th>2</th>\n",
              "      <td>3</td>\n",
              "      <td>https://edition.cnn.com/2019/12/14/football/li...</td>\n",
              "      <td>Liverpool beat Watford to extend unbeaten Prem...</td>\n",
              "      <td>2019-12-14</td>\n",
              "      <td>Matias Grez, CNN</td>\n",
              "      <td>football</td>\n",
              "    </tr>\n",
              "    <tr>\n",
              "      <th>3</th>\n",
              "      <td>4</td>\n",
              "      <td>https://edition.cnn.com/2019/12/14/sport/heism...</td>\n",
              "      <td>Finalists from LSU, Oklahoma and OSU vie for t...</td>\n",
              "      <td>2019-12-14</td>\n",
              "      <td>Wayne Sterling and Dakin Andone, CNN</td>\n",
              "      <td>sport, Heisman Trophy 2019: Finalists come fro...</td>\n",
              "    </tr>\n",
              "    <tr>\n",
              "      <th>4</th>\n",
              "      <td>5</td>\n",
              "      <td>https://edition.cnn.com/2019/12/13/uk/uk-elect...</td>\n",
              "      <td>Boris Johnson has cleared an election hurdle. ...</td>\n",
              "      <td>2019-12-13</td>\n",
              "      <td>Analysis by James Griffiths, CNN</td>\n",
              "      <td>uk</td>\n",
              "    </tr>\n",
              "    <tr>\n",
              "      <th>...</th>\n",
              "      <td>...</td>\n",
              "      <td>...</td>\n",
              "      <td>...</td>\n",
              "      <td>...</td>\n",
              "      <td>...</td>\n",
              "      <td>...</td>\n",
              "    </tr>\n",
              "    <tr>\n",
              "      <th>136</th>\n",
              "      <td>137</td>\n",
              "      <td>https://edition.cnn.com/2019/11/29/europe/lond...</td>\n",
              "      <td>This is what we know about London Bridge stabb...</td>\n",
              "      <td>2019-12-01</td>\n",
              "      <td>Sebastian Shukla, Nicole Chavez and Hollie Sil...</td>\n",
              "      <td>europe</td>\n",
              "    </tr>\n",
              "    <tr>\n",
              "      <th>137</th>\n",
              "      <td>138</td>\n",
              "      <td>https://edition.cnn.com/2019/11/29/uk/london-b...</td>\n",
              "      <td>Suspect in deadly stabbing near London Bridge ...</td>\n",
              "      <td>2019-12-01</td>\n",
              "      <td>Rob Picheta, Nicole Chavez and Nick Paton Wals...</td>\n",
              "      <td>uk</td>\n",
              "    </tr>\n",
              "    <tr>\n",
              "      <th>138</th>\n",
              "      <td>139</td>\n",
              "      <td>https://edition.cnn.com/2019/11/30/uk/london-b...</td>\n",
              "      <td>Acts of heroism emerge after London terror attack</td>\n",
              "      <td>2019-12-01</td>\n",
              "      <td>Tara John, Vasco Cotovio and Lauren Kent, CNN</td>\n",
              "      <td>uk</td>\n",
              "    </tr>\n",
              "    <tr>\n",
              "      <th>139</th>\n",
              "      <td>140</td>\n",
              "      <td>https://edition.cnn.com/2019/12/01/motorsport/...</td>\n",
              "      <td>Lewis Hamilton wins season finale in Abu Dhabi</td>\n",
              "      <td>2019-12-01</td>\n",
              "      <td>Ben Church, CNN</td>\n",
              "      <td>motorsport</td>\n",
              "    </tr>\n",
              "    <tr>\n",
              "      <th>140</th>\n",
              "      <td>141</td>\n",
              "      <td>https://edition.cnn.com/2019/12/01/europe/isis...</td>\n",
              "      <td>Irish 'ISIS bride' Lisa Smith in custody in Du...</td>\n",
              "      <td>2019-12-01</td>\n",
              "      <td>Schams Elwazer, Peter Taggart and Tara John, CNN</td>\n",
              "      <td>europe</td>\n",
              "    </tr>\n",
              "  </tbody>\n",
              "</table>\n",
              "<p>141 rows × 6 columns</p>\n",
              "</div>"
            ],
            "text/plain": [
              "      ID  ...                                           CATEGORY\n",
              "0      1  ...                                           football\n",
              "1      2  ...                                             europe\n",
              "2      3  ...                                           football\n",
              "3      4  ...  sport, Heisman Trophy 2019: Finalists come fro...\n",
              "4      5  ...                                                 uk\n",
              "..   ...  ...                                                ...\n",
              "136  137  ...                                             europe\n",
              "137  138  ...                                                 uk\n",
              "138  139  ...                                                 uk\n",
              "139  140  ...                                         motorsport\n",
              "140  141  ...                                             europe\n",
              "\n",
              "[141 rows x 6 columns]"
            ]
          },
          "metadata": {},
          "execution_count": 7
        }
      ]
    },
    {
      "cell_type": "code",
      "metadata": {
        "id": "fXrCY0le87N7"
      },
      "source": [
        "df=df[0:0]\n",
        "scrap_links(articles_2020_link,2020)\n",
        "df_articles_2020=pd.DataFrame(df)"
      ],
      "execution_count": null,
      "outputs": []
    },
    {
      "cell_type": "code",
      "metadata": {
        "colab": {
          "base_uri": "https://localhost:8080/",
          "height": 417
        },
        "id": "vigYudbu9AgG",
        "outputId": "347e2eee-b2db-4441-d12e-670d26d36141"
      },
      "source": [
        "df_articles_2020"
      ],
      "execution_count": null,
      "outputs": [
        {
          "output_type": "execute_result",
          "data": {
            "text/html": [
              "<div>\n",
              "<style scoped>\n",
              "    .dataframe tbody tr th:only-of-type {\n",
              "        vertical-align: middle;\n",
              "    }\n",
              "\n",
              "    .dataframe tbody tr th {\n",
              "        vertical-align: top;\n",
              "    }\n",
              "\n",
              "    .dataframe thead th {\n",
              "        text-align: right;\n",
              "    }\n",
              "</style>\n",
              "<table border=\"1\" class=\"dataframe\">\n",
              "  <thead>\n",
              "    <tr style=\"text-align: right;\">\n",
              "      <th></th>\n",
              "      <th>ID</th>\n",
              "      <th>LINK</th>\n",
              "      <th>TITLE</th>\n",
              "      <th>DATE</th>\n",
              "      <th>AUTHOR</th>\n",
              "      <th>CATEGORY</th>\n",
              "    </tr>\n",
              "  </thead>\n",
              "  <tbody>\n",
              "    <tr>\n",
              "      <th>0</th>\n",
              "      <td>1</td>\n",
              "      <td>https://edition.cnn.com/2020/12/14/sport/rugby...</td>\n",
              "      <td>A case of deja vu at the 2023 Rugby World Cup ...</td>\n",
              "      <td>2020-12-14</td>\n",
              "      <td>Ben Church, CNN</td>\n",
              "      <td>sport</td>\n",
              "    </tr>\n",
              "    <tr>\n",
              "      <th>1</th>\n",
              "      <td>2</td>\n",
              "      <td>https://edition.cnn.com/2020/12/14/europe/belg...</td>\n",
              "      <td>Santa's care home visit may have infected 75 w...</td>\n",
              "      <td>2020-12-14</td>\n",
              "      <td>Mick Krever and Jack Guy, CNN</td>\n",
              "      <td>europe</td>\n",
              "    </tr>\n",
              "    <tr>\n",
              "      <th>2</th>\n",
              "      <td>3</td>\n",
              "      <td>https://edition.cnn.com/2020/12/14/football/gr...</td>\n",
              "      <td>Gérard Houllier, former Liverpool and France m...</td>\n",
              "      <td>2020-12-14</td>\n",
              "      <td>Ben Morse, CNN</td>\n",
              "      <td>football, Gérard Houllier, former Liverpool an...</td>\n",
              "    </tr>\n",
              "    <tr>\n",
              "      <th>3</th>\n",
              "      <td>4</td>\n",
              "      <td>https://edition.cnn.com/2020/12/12/sport/micha...</td>\n",
              "      <td>Phelps says next year's Olympic Games will not...</td>\n",
              "      <td>2020-12-14</td>\n",
              "      <td>Don Riddell and Ben Church, CNN</td>\n",
              "      <td>sport</td>\n",
              "    </tr>\n",
              "    <tr>\n",
              "      <th>4</th>\n",
              "      <td>5</td>\n",
              "      <td>https://edition.cnn.com/2020/12/13/europe/germ...</td>\n",
              "      <td>Germany to go into national lockdown over Chri...</td>\n",
              "      <td>2020-12-14</td>\n",
              "      <td>Claudia Otto, CNN</td>\n",
              "      <td>europe</td>\n",
              "    </tr>\n",
              "    <tr>\n",
              "      <th>...</th>\n",
              "      <td>...</td>\n",
              "      <td>...</td>\n",
              "      <td>...</td>\n",
              "      <td>...</td>\n",
              "      <td>...</td>\n",
              "      <td>...</td>\n",
              "    </tr>\n",
              "    <tr>\n",
              "      <th>105</th>\n",
              "      <td>106</td>\n",
              "      <td>https://edition.cnn.com/2020/12/01/football/di...</td>\n",
              "      <td>Prosecutors investigating potential gross negl...</td>\n",
              "      <td>2020-12-01</td>\n",
              "      <td>Ben Church and Tatiana Arias, CNN</td>\n",
              "      <td>football</td>\n",
              "    </tr>\n",
              "    <tr>\n",
              "      <th>106</th>\n",
              "      <td>107</td>\n",
              "      <td>https://edition.cnn.com/2020/12/01/europe/hung...</td>\n",
              "      <td>Hungarian lawmaker resigns after caught fleein...</td>\n",
              "      <td>2020-12-01</td>\n",
              "      <td>James Frater, CNN</td>\n",
              "      <td>europe</td>\n",
              "    </tr>\n",
              "    <tr>\n",
              "      <th>107</th>\n",
              "      <td>108</td>\n",
              "      <td>https://edition.cnn.com/2020/11/30/sport/first...</td>\n",
              "      <td>Callie Brownson of the Cleveland Browns is the...</td>\n",
              "      <td>2020-12-01</td>\n",
              "      <td>Paul P. Murphy, CNN</td>\n",
              "      <td>sport</td>\n",
              "    </tr>\n",
              "    <tr>\n",
              "      <th>108</th>\n",
              "      <td>109</td>\n",
              "      <td>https://edition.cnn.com/2020/12/01/sport/kevin...</td>\n",
              "      <td>French sailor is rescued by rival after yacht ...</td>\n",
              "      <td>2020-12-01</td>\n",
              "      <td>Ben Church, CNN</td>\n",
              "      <td>sport</td>\n",
              "    </tr>\n",
              "    <tr>\n",
              "      <th>109</th>\n",
              "      <td>110</td>\n",
              "      <td>https://edition.cnn.com/2020/12/01/australia/h...</td>\n",
              "      <td>Australia partners with US to develop hyperson...</td>\n",
              "      <td>2020-12-01</td>\n",
              "      <td>Story by Reuters</td>\n",
              "      <td>australia</td>\n",
              "    </tr>\n",
              "  </tbody>\n",
              "</table>\n",
              "<p>110 rows × 6 columns</p>\n",
              "</div>"
            ],
            "text/plain": [
              "      ID  ...                                           CATEGORY\n",
              "0      1  ...                                              sport\n",
              "1      2  ...                                             europe\n",
              "2      3  ...  football, Gérard Houllier, former Liverpool an...\n",
              "3      4  ...                                              sport\n",
              "4      5  ...                                             europe\n",
              "..   ...  ...                                                ...\n",
              "105  106  ...                                           football\n",
              "106  107  ...                                             europe\n",
              "107  108  ...                                              sport\n",
              "108  109  ...                                              sport\n",
              "109  110  ...                                          australia\n",
              "\n",
              "[110 rows x 6 columns]"
            ]
          },
          "metadata": {},
          "execution_count": 9
        }
      ]
    },
    {
      "cell_type": "markdown",
      "metadata": {
        "id": "xXWEvO3A9VpE"
      },
      "source": [
        "***VISUALIZATION with MATPLOTLIB***"
      ]
    },
    {
      "cell_type": "code",
      "metadata": {
        "colab": {
          "base_uri": "https://localhost:8080/",
          "height": 294
        },
        "id": "iWjmCwXQ9QYX",
        "outputId": "62bdddd2-6caa-4f23-f212-f428fbb2621d"
      },
      "source": [
        "import matplotlib.pyplot as plt\n",
        "\n",
        "plt.subplots_adjust(wspace=1.0)\n",
        "plt.suptitle(\"Number of articles per day for 2019 and 2020\")\n",
        "plt.subplot(121)\n",
        "bg_info_2019=df_articles_2019['DATE'].value_counts().sort_index()\n",
        "plt.style.use(\"dark_background\")\n",
        "bg_info_2019.plot.barh(color=\"#4285F4\",edgecolor=\"#E0E0E0\",linewidth=0.5,xlabel=\"Date\")\n",
        "\n",
        "plt.subplot(122)\n",
        "bg_info_2020=df_articles_2020['DATE'].value_counts().sort_index()\n",
        "plt.style.use(\"dark_background\")\n",
        "bg_info_2020.plot.barh(color=\"#FFCD40\",edgecolor=\"#E0E0E0\",linewidth=0.5,xlabel=\"Date\")\n",
        "\n",
        "\n",
        "plt.show()"
      ],
      "execution_count": null,
      "outputs": [
        {
          "output_type": "display_data",
          "data": {
            "image/png": "[encoded data removed]",
            "text/plain": [
              "<Figure size 432x288 with 2 Axes>"
            ]
          },
          "metadata": {}
        }
      ]
    },
    {
      "cell_type": "code",
      "metadata": {
        "colab": {
          "base_uri": "https://localhost:8080/",
          "height": 548
        },
        "id": "XfYwlrPS9Yxn",
        "outputId": "efb922d8-f200-4f7f-b6ca-6caaee72a9b1"
      },
      "source": [
        "from collections import Counter\n",
        "\n",
        "list_2020=df_articles_2020['AUTHOR'].tolist()\n",
        "counts=Counter(list_2020)\n",
        "top_writers=pd.DataFrame(counts.most_common(10))\n",
        "print(\"TOP 10 Authors in 2020\")\n",
        "top_writers.columns=['Author','num of Articles']\n",
        "top_writers.plot.barh(x='Author',color='#2FBD78',edgecolor='black')\n",
        "top_writers=plt.style.use(\"ggplot\")\n",
        "plt.show()\n",
        "\n",
        "list_2019=df_articles_2019['AUTHOR'].tolist()\n",
        "counts=Counter(list_2019)\n",
        "top_writers=pd.DataFrame(counts.most_common(10))\n",
        "print(\"TOP 10 Authors in 2019\")\n",
        "top_writers.columns=['Author','num of Articles']\n",
        "top_writers.plot.barh(x='Author',color='#4285F4',edgecolor='black')\n",
        "top_writers=plt.style.use(\"ggplot\")\n",
        "plt.show()"
      ],
      "execution_count": null,
      "outputs": [
        {
          "output_type": "stream",
          "name": "stdout",
          "text": [
            "TOP 10 Authors in 2020\n"
          ]
        },
        {
          "output_type": "display_data",
          "data": {
            "image/png": "[encoded data removed]",
            "text/plain": [
              "<Figure size 432x288 with 1 Axes>"
            ]
          },
          "metadata": {}
        },
        {
          "output_type": "stream",
          "name": "stdout",
          "text": [
            "TOP 10 Authors in 2019\n"
          ]
        },
        {
          "output_type": "display_data",
          "data": {
            "image/png": "[encoded data removed]",
            "text/plain": [
              "<Figure size 432x288 with 1 Axes>"
            ]
          },
          "metadata": {}
        }
      ]
    },
    {
      "cell_type": "markdown",
      "metadata": {
        "id": "f697qO3i9tCt"
      },
      "source": [
        "***USER INTERACTION***"
      ]
    },
    {
      "cell_type": "code",
      "metadata": {
        "colab": {
          "base_uri": "https://localhost:8080/",
          "height": 731
        },
        "id": "GD8flljU9v0b",
        "outputId": "89a819db-161a-402c-ad14-2f19aa2324c8"
      },
      "source": [
        "category_selected=input('Here you can write topic name:')\n",
        "#football, sport, motorsport, uk,europe, australia\n",
        "print('You have selected ',category_selected,' category. All related articles to this topic:')\n",
        "df_category_selected=df_articles_2019.query(\"CATEGORY==@category_selected\")[['ID','TITLE']]\n",
        "df_category_selected"
      ],
      "execution_count": null,
      "outputs": [
        {
          "output_type": "stream",
          "name": "stdout",
          "text": [
            "Here you can write topic name:football\n",
            "You have selected  football  category. All related articles to this topic:\n"
          ]
        },
        {
          "output_type": "execute_result",
          "data": {
            "text/html": [
              "<div>\n",
              "<style scoped>\n",
              "    .dataframe tbody tr th:only-of-type {\n",
              "        vertical-align: middle;\n",
              "    }\n",
              "\n",
              "    .dataframe tbody tr th {\n",
              "        vertical-align: top;\n",
              "    }\n",
              "\n",
              "    .dataframe thead th {\n",
              "        text-align: right;\n",
              "    }\n",
              "</style>\n",
              "<table border=\"1\" class=\"dataframe\">\n",
              "  <thead>\n",
              "    <tr style=\"text-align: right;\">\n",
              "      <th></th>\n",
              "      <th>ID</th>\n",
              "      <th>TITLE</th>\n",
              "    </tr>\n",
              "  </thead>\n",
              "  <tbody>\n",
              "    <tr>\n",
              "      <th>0</th>\n",
              "      <td>1</td>\n",
              "      <td>Barcelona draw with Real Sociedad opens door f...</td>\n",
              "    </tr>\n",
              "    <tr>\n",
              "      <th>2</th>\n",
              "      <td>3</td>\n",
              "      <td>Liverpool beat Watford to extend unbeaten Prem...</td>\n",
              "    </tr>\n",
              "    <tr>\n",
              "      <th>10</th>\n",
              "      <td>11</td>\n",
              "      <td>Liverpool boss Klopp signs new deal until 2024</td>\n",
              "    </tr>\n",
              "    <tr>\n",
              "      <th>31</th>\n",
              "      <td>32</td>\n",
              "      <td>Football and food banks: How UK soccer fans ar...</td>\n",
              "    </tr>\n",
              "    <tr>\n",
              "      <th>35</th>\n",
              "      <td>36</td>\n",
              "      <td>Barcelona's Ansu Fati becomes youngest scorer ...</td>\n",
              "    </tr>\n",
              "    <tr>\n",
              "      <th>36</th>\n",
              "      <td>37</td>\n",
              "      <td>Cristiano Ronaldo targets sixth Champions Leag...</td>\n",
              "    </tr>\n",
              "    <tr>\n",
              "      <th>37</th>\n",
              "      <td>38</td>\n",
              "      <td>Mocked by some, but 'green' soccer club wants...</td>\n",
              "    </tr>\n",
              "    <tr>\n",
              "      <th>42</th>\n",
              "      <td>43</td>\n",
              "      <td>Premier League: Racist and homophobic incident...</td>\n",
              "    </tr>\n",
              "    <tr>\n",
              "      <th>51</th>\n",
              "      <td>52</td>\n",
              "      <td>Liverpool's Champions League hopes saved in 10...</td>\n",
              "    </tr>\n",
              "    <tr>\n",
              "      <th>62</th>\n",
              "      <td>63</td>\n",
              "      <td>Man arrested after racist incident mars Manche...</td>\n",
              "    </tr>\n",
              "    <tr>\n",
              "      <th>69</th>\n",
              "      <td>70</td>\n",
              "      <td>'Black Friday' headline players embrace after ...</td>\n",
              "    </tr>\n",
              "    <tr>\n",
              "      <th>75</th>\n",
              "      <td>76</td>\n",
              "      <td>Italian newspaper accuses critics of 'lynching...</td>\n",
              "    </tr>\n",
              "    <tr>\n",
              "      <th>91</th>\n",
              "      <td>92</td>\n",
              "      <td>'Black Friday': Italian newspaper sparks race ...</td>\n",
              "    </tr>\n",
              "    <tr>\n",
              "      <th>92</th>\n",
              "      <td>93</td>\n",
              "      <td>Cardiff to appeal over $6.65 million fee for E...</td>\n",
              "    </tr>\n",
              "    <tr>\n",
              "      <th>93</th>\n",
              "      <td>94</td>\n",
              "      <td>Beitar Jerusalem: Soccer club owner ready to s...</td>\n",
              "    </tr>\n",
              "    <tr>\n",
              "      <th>94</th>\n",
              "      <td>95</td>\n",
              "      <td>Jose Mourinho humbled on return to Old Trafford</td>\n",
              "    </tr>\n",
              "    <tr>\n",
              "      <th>104</th>\n",
              "      <td>105</td>\n",
              "      <td>How Shaun Wright-Phillips wanted both teams to...</td>\n",
              "    </tr>\n",
              "    <tr>\n",
              "      <th>113</th>\n",
              "      <td>114</td>\n",
              "      <td>Liverpool star Wijnaldum credits Klopp for dev...</td>\n",
              "    </tr>\n",
              "    <tr>\n",
              "      <th>125</th>\n",
              "      <td>126</td>\n",
              "      <td>Can Leicester City upset the odds and win anot...</td>\n",
              "    </tr>\n",
              "    <tr>\n",
              "      <th>131</th>\n",
              "      <td>132</td>\n",
              "      <td>Dutch star scores six as Arsenal breaks record</td>\n",
              "    </tr>\n",
              "    <tr>\n",
              "      <th>134</th>\n",
              "      <td>135</td>\n",
              "      <td>Arsenal continues unwanted winless streak</td>\n",
              "    </tr>\n",
              "  </tbody>\n",
              "</table>\n",
              "</div>"
            ],
            "text/plain": [
              "      ID                                              TITLE\n",
              "0      1  Barcelona draw with Real Sociedad opens door f...\n",
              "2      3  Liverpool beat Watford to extend unbeaten Prem...\n",
              "10    11     Liverpool boss Klopp signs new deal until 2024\n",
              "31    32  Football and food banks: How UK soccer fans ar...\n",
              "35    36  Barcelona's Ansu Fati becomes youngest scorer ...\n",
              "36    37  Cristiano Ronaldo targets sixth Champions Leag...\n",
              "37    38   Mocked by some, but 'green' soccer club wants...\n",
              "42    43  Premier League: Racist and homophobic incident...\n",
              "51    52  Liverpool's Champions League hopes saved in 10...\n",
              "62    63  Man arrested after racist incident mars Manche...\n",
              "69    70  'Black Friday' headline players embrace after ...\n",
              "75    76  Italian newspaper accuses critics of 'lynching...\n",
              "91    92  'Black Friday': Italian newspaper sparks race ...\n",
              "92    93  Cardiff to appeal over $6.65 million fee for E...\n",
              "93    94  Beitar Jerusalem: Soccer club owner ready to s...\n",
              "94    95    Jose Mourinho humbled on return to Old Trafford\n",
              "104  105  How Shaun Wright-Phillips wanted both teams to...\n",
              "113  114  Liverpool star Wijnaldum credits Klopp for dev...\n",
              "125  126  Can Leicester City upset the odds and win anot...\n",
              "131  132     Dutch star scores six as Arsenal breaks record\n",
              "134  135          Arsenal continues unwanted winless streak"
            ]
          },
          "metadata": {},
          "execution_count": 12
        }
      ]
    },
    {
      "cell_type": "code",
      "metadata": {
        "colab": {
          "base_uri": "https://localhost:8080/",
          "height": 98
        },
        "id": "UZ05khWt903a",
        "outputId": "6d0256f0-b909-42d2-ecf7-eb7e58b98db0"
      },
      "source": [
        "ID_selected=int(input('Please,choose ID of the article that you are interested '))\n",
        "Link_needed=df_articles_2019.query(\"ID == @ID_selected\")[['LINK']]\n",
        "pd.options.display.max_colwidth=300\n",
        "Link_needed"
      ],
      "execution_count": null,
      "outputs": [
        {
          "name": "stdout",
          "output_type": "stream",
          "text": [
            "Please,choose ID of the article that you are interested 135\n"
          ]
        },
        {
          "output_type": "execute_result",
          "data": {
            "text/html": [
              "<div>\n",
              "<style scoped>\n",
              "    .dataframe tbody tr th:only-of-type {\n",
              "        vertical-align: middle;\n",
              "    }\n",
              "\n",
              "    .dataframe tbody tr th {\n",
              "        vertical-align: top;\n",
              "    }\n",
              "\n",
              "    .dataframe thead th {\n",
              "        text-align: right;\n",
              "    }\n",
              "</style>\n",
              "<table border=\"1\" class=\"dataframe\">\n",
              "  <thead>\n",
              "    <tr style=\"text-align: right;\">\n",
              "      <th></th>\n",
              "      <th>LINK</th>\n",
              "    </tr>\n",
              "  </thead>\n",
              "  <tbody>\n",
              "    <tr>\n",
              "      <th>134</th>\n",
              "      <td>https://edition.cnn.com/2019/12/01/football/arsenal-norwich-draw-epl-spt-intl/index.html</td>\n",
              "    </tr>\n",
              "  </tbody>\n",
              "</table>\n",
              "</div>"
            ],
            "text/plain": [
              "                                                                                         LINK\n",
              "134  https://edition.cnn.com/2019/12/01/football/arsenal-norwich-draw-epl-spt-intl/index.html"
            ]
          },
          "metadata": {},
          "execution_count": 13
        }
      ]
    },
    {
      "cell_type": "code",
      "metadata": {
        "id": "KLwXQnpC97Qu"
      },
      "source": [],
      "execution_count": null,
      "outputs": []
    }
  ]
}